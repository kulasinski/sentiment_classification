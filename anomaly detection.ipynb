{
 "cells": [
  {
   "cell_type": "markdown",
   "id": "magnetic-relation",
   "metadata": {},
   "source": [
    "# Detecting anomalous reviews"
   ]
  },
  {
   "cell_type": "markdown",
   "id": "acting-officer",
   "metadata": {},
   "source": [
    "## Load the dataset and NLP libraries"
   ]
  },
  {
   "cell_type": "code",
   "execution_count": 51,
   "id": "ahead-hunger",
   "metadata": {},
   "outputs": [],
   "source": [
    "import pandas as pd\n",
    "import spacy\n",
    "from matplotlib import pyplot as plt\n",
    "\n",
    "nlp = spacy.load('en_core_web_sm')"
   ]
  },
  {
   "cell_type": "code",
   "execution_count": null,
   "id": "skilled-curtis",
   "metadata": {},
   "outputs": [],
   "source": [
    "df = pd.read_csv('IMDB Dataset.csv')"
   ]
  },
  {
   "cell_type": "markdown",
   "id": "personalized-consent",
   "metadata": {},
   "source": [
    "Check amount of reviews per each class."
   ]
  },
  {
   "cell_type": "code",
   "execution_count": 4,
   "id": "defensive-stadium",
   "metadata": {},
   "outputs": [
    {
     "data": {
      "text/html": [
       "<div>\n",
       "<style scoped>\n",
       "    .dataframe tbody tr th:only-of-type {\n",
       "        vertical-align: middle;\n",
       "    }\n",
       "\n",
       "    .dataframe tbody tr th {\n",
       "        vertical-align: top;\n",
       "    }\n",
       "\n",
       "    .dataframe thead th {\n",
       "        text-align: right;\n",
       "    }\n",
       "</style>\n",
       "<table border=\"1\" class=\"dataframe\">\n",
       "  <thead>\n",
       "    <tr style=\"text-align: right;\">\n",
       "      <th></th>\n",
       "      <th>review</th>\n",
       "    </tr>\n",
       "    <tr>\n",
       "      <th>sentiment</th>\n",
       "      <th></th>\n",
       "    </tr>\n",
       "  </thead>\n",
       "  <tbody>\n",
       "    <tr>\n",
       "      <th>negative</th>\n",
       "      <td>2502</td>\n",
       "    </tr>\n",
       "    <tr>\n",
       "      <th>positive</th>\n",
       "      <td>25000</td>\n",
       "    </tr>\n",
       "  </tbody>\n",
       "</table>\n",
       "</div>"
      ],
      "text/plain": [
       "           review\n",
       "sentiment        \n",
       "negative     2502\n",
       "positive    25000"
      ]
     },
     "execution_count": 4,
     "metadata": {},
     "output_type": "execute_result"
    }
   ],
   "source": [
    "df.groupby('sentiment').count()"
   ]
  },
  {
   "cell_type": "markdown",
   "id": "proved-university",
   "metadata": {},
   "source": [
    "## Create numerical features based on the review content"
   ]
  },
  {
   "cell_type": "markdown",
   "id": "american-russian",
   "metadata": {},
   "source": [
    "For each row, the parse the review using SpaCy and attribute a number of numberical features as follows."
   ]
  },
  {
   "cell_type": "code",
   "execution_count": 37,
   "id": "protecting-pottery",
   "metadata": {},
   "outputs": [],
   "source": [
    "n_chars = [] # number of all characters\n",
    "n_words = [] # number of words\n",
    "n_punct = [] # number of punctuation characters\n",
    "n_digit = [] # number of digits/numbers\n",
    "n_stopw = [] # number of stop words\n",
    "n_sents = [] # number of sentences\n",
    "n_unique_words = [] # number of unique words\n",
    "n_unique_chars = [] # number of unique characters\n",
    "\n",
    "for i,row in df.iterrows():\n",
    "    txt = row['review']\n",
    "    doc = nlp(txt)\n",
    "    \n",
    "    n_chars.append(len(txt))\n",
    "    n_words.append(len(doc))\n",
    "    n_punct.append(len([t for t in doc if t.is_punct]))\n",
    "    n_digit.append(sum(c.isdigit() for c in txt))\n",
    "    n_stopw.append(len([t for t in doc if t.is_stop]))\n",
    "    n_sents.append(len(list(doc.sents)))\n",
    "    n_unique_words.append(len(set([t.lemma_.lower() for t in doc if t.is_alpha])))\n",
    "    n_unique_chars.append(len(set(txt)))"
   ]
  },
  {
   "cell_type": "markdown",
   "id": "artificial-stress",
   "metadata": {},
   "source": [
    "...and include them in the original dataframe."
   ]
  },
  {
   "cell_type": "code",
   "execution_count": 78,
   "id": "covered-grill",
   "metadata": {},
   "outputs": [],
   "source": [
    "df['n_chars'] = n_chars\n",
    "df['n_words'] = n_words\n",
    "df['n_punct'] = n_punct\n",
    "df['n_digit'] = n_digit\n",
    "df['n_stopw'] = n_stopw\n",
    "df['n_sents'] = n_sents\n",
    "df['n_unique_words'] = n_unique_words\n",
    "df['n_unique_chars'] = n_unique_chars"
   ]
  },
  {
   "cell_type": "markdown",
   "id": "reserved-texas",
   "metadata": {},
   "source": [
    "## Normalize some features by the number of words"
   ]
  },
  {
   "cell_type": "markdown",
   "id": "valuable-somalia",
   "metadata": {},
   "source": [
    "We need to normalize certain columns, because these absolute numbers can't compared with each other."
   ]
  },
  {
   "cell_type": "code",
   "execution_count": 79,
   "id": "clear-preview",
   "metadata": {},
   "outputs": [],
   "source": [
    "for c in ['n_chars',\n",
    "          'n_punct',\n",
    "          'n_digit',\n",
    "          'n_stopw']:\n",
    "    df[c] = df[c]/(df['n_words']+1)"
   ]
  },
  {
   "cell_type": "code",
   "execution_count": 80,
   "id": "ranking-necklace",
   "metadata": {},
   "outputs": [
    {
     "data": {
      "text/html": [
       "<div>\n",
       "<style scoped>\n",
       "    .dataframe tbody tr th:only-of-type {\n",
       "        vertical-align: middle;\n",
       "    }\n",
       "\n",
       "    .dataframe tbody tr th {\n",
       "        vertical-align: top;\n",
       "    }\n",
       "\n",
       "    .dataframe thead th {\n",
       "        text-align: right;\n",
       "    }\n",
       "</style>\n",
       "<table border=\"1\" class=\"dataframe\">\n",
       "  <thead>\n",
       "    <tr style=\"text-align: right;\">\n",
       "      <th></th>\n",
       "      <th>review</th>\n",
       "      <th>sentiment</th>\n",
       "      <th>n_chars</th>\n",
       "      <th>n_words</th>\n",
       "      <th>n_punct</th>\n",
       "      <th>n_digit</th>\n",
       "      <th>n_stopw</th>\n",
       "      <th>n_sents</th>\n",
       "      <th>n_unique_words</th>\n",
       "      <th>n_unique_chars</th>\n",
       "      <th>anomaly_score</th>\n",
       "    </tr>\n",
       "  </thead>\n",
       "  <tbody>\n",
       "    <tr>\n",
       "      <th>0</th>\n",
       "      <td>An excellent cast who do their best with an aw...</td>\n",
       "      <td>negative</td>\n",
       "      <td>4.953704</td>\n",
       "      <td>107</td>\n",
       "      <td>0.083333</td>\n",
       "      <td>0.0</td>\n",
       "      <td>0.518519</td>\n",
       "      <td>5</td>\n",
       "      <td>70</td>\n",
       "      <td>33</td>\n",
       "      <td>1</td>\n",
       "    </tr>\n",
       "    <tr>\n",
       "      <th>1</th>\n",
       "      <td>A dreary and pointless bit of fluff (bloody fl...</td>\n",
       "      <td>negative</td>\n",
       "      <td>4.908257</td>\n",
       "      <td>108</td>\n",
       "      <td>0.155963</td>\n",
       "      <td>0.0</td>\n",
       "      <td>0.431193</td>\n",
       "      <td>6</td>\n",
       "      <td>64</td>\n",
       "      <td>36</td>\n",
       "      <td>1</td>\n",
       "    </tr>\n",
       "    <tr>\n",
       "      <th>2</th>\n",
       "      <td>If the writer/director is reading this (and I ...</td>\n",
       "      <td>negative</td>\n",
       "      <td>4.603448</td>\n",
       "      <td>115</td>\n",
       "      <td>0.094828</td>\n",
       "      <td>0.0</td>\n",
       "      <td>0.500000</td>\n",
       "      <td>7</td>\n",
       "      <td>61</td>\n",
       "      <td>45</td>\n",
       "      <td>1</td>\n",
       "    </tr>\n",
       "  </tbody>\n",
       "</table>\n",
       "</div>"
      ],
      "text/plain": [
       "                                              review sentiment   n_chars  \\\n",
       "0  An excellent cast who do their best with an aw...  negative  4.953704   \n",
       "1  A dreary and pointless bit of fluff (bloody fl...  negative  4.908257   \n",
       "2  If the writer/director is reading this (and I ...  negative  4.603448   \n",
       "\n",
       "   n_words   n_punct  n_digit   n_stopw  n_sents  n_unique_words  \\\n",
       "0      107  0.083333      0.0  0.518519        5              70   \n",
       "1      108  0.155963      0.0  0.431193        6              64   \n",
       "2      115  0.094828      0.0  0.500000        7              61   \n",
       "\n",
       "   n_unique_chars  anomaly_score  \n",
       "0              33              1  \n",
       "1              36              1  \n",
       "2              45              1  "
      ]
     },
     "execution_count": 80,
     "metadata": {},
     "output_type": "execute_result"
    }
   ],
   "source": [
    "df.head(3)"
   ]
  },
  {
   "cell_type": "markdown",
   "id": "fiscal-update",
   "metadata": {},
   "source": [
    "## Quick look at the ditributions"
   ]
  },
  {
   "cell_type": "markdown",
   "id": "closing-hybrid",
   "metadata": {},
   "source": [
    "Now we can have a look whether the features we prepared show any difference between the two classes. This will be helpful in the classification task. "
   ]
  },
  {
   "cell_type": "code",
   "execution_count": 177,
   "id": "fossil-majority",
   "metadata": {},
   "outputs": [
    {
     "data": {
      "text/html": [
       "<div>\n",
       "<style scoped>\n",
       "    .dataframe tbody tr th:only-of-type {\n",
       "        vertical-align: middle;\n",
       "    }\n",
       "\n",
       "    .dataframe tbody tr th {\n",
       "        vertical-align: top;\n",
       "    }\n",
       "\n",
       "    .dataframe thead th {\n",
       "        text-align: right;\n",
       "    }\n",
       "</style>\n",
       "<table border=\"1\" class=\"dataframe\">\n",
       "  <thead>\n",
       "    <tr style=\"text-align: right;\">\n",
       "      <th></th>\n",
       "      <th>n_chars</th>\n",
       "      <th>n_words</th>\n",
       "      <th>n_punct</th>\n",
       "      <th>n_digit</th>\n",
       "      <th>n_stopw</th>\n",
       "      <th>n_sents</th>\n",
       "      <th>n_unique_words</th>\n",
       "      <th>n_unique_chars</th>\n",
       "      <th>anomaly_score</th>\n",
       "      <th>decision_function</th>\n",
       "    </tr>\n",
       "    <tr>\n",
       "      <th>sentiment</th>\n",
       "      <th></th>\n",
       "      <th></th>\n",
       "      <th></th>\n",
       "      <th></th>\n",
       "      <th></th>\n",
       "      <th></th>\n",
       "      <th></th>\n",
       "      <th></th>\n",
       "      <th></th>\n",
       "      <th></th>\n",
       "    </tr>\n",
       "  </thead>\n",
       "  <tbody>\n",
       "    <tr>\n",
       "      <th>negative</th>\n",
       "      <td>4.625055</td>\n",
       "      <td>78.383293</td>\n",
       "      <td>0.124819</td>\n",
       "      <td>0.014361</td>\n",
       "      <td>0.477796</td>\n",
       "      <td>4.815747</td>\n",
       "      <td>48.260991</td>\n",
       "      <td>36.091527</td>\n",
       "      <td>0.943245</td>\n",
       "      <td>0.074518</td>\n",
       "    </tr>\n",
       "    <tr>\n",
       "      <th>positive</th>\n",
       "      <td>4.835612</td>\n",
       "      <td>270.596320</td>\n",
       "      <td>0.114689</td>\n",
       "      <td>0.012292</td>\n",
       "      <td>0.476969</td>\n",
       "      <td>11.559520</td>\n",
       "      <td>126.551880</td>\n",
       "      <td>47.143800</td>\n",
       "      <td>0.983600</td>\n",
       "      <td>0.092339</td>\n",
       "    </tr>\n",
       "  </tbody>\n",
       "</table>\n",
       "</div>"
      ],
      "text/plain": [
       "            n_chars     n_words   n_punct   n_digit   n_stopw    n_sents  \\\n",
       "sentiment                                                                  \n",
       "negative   4.625055   78.383293  0.124819  0.014361  0.477796   4.815747   \n",
       "positive   4.835612  270.596320  0.114689  0.012292  0.476969  11.559520   \n",
       "\n",
       "           n_unique_words  n_unique_chars  anomaly_score  decision_function  \n",
       "sentiment                                                                    \n",
       "negative        48.260991       36.091527       0.943245           0.074518  \n",
       "positive       126.551880       47.143800       0.983600           0.092339  "
      ]
     },
     "execution_count": 177,
     "metadata": {},
     "output_type": "execute_result"
    }
   ],
   "source": [
    "df.groupby('sentiment').mean() # !!!"
   ]
  },
  {
   "cell_type": "markdown",
   "id": "universal-kinase",
   "metadata": {},
   "source": [
    "Let's now look at some of the distributions"
   ]
  },
  {
   "cell_type": "code",
   "execution_count": 81,
   "id": "hidden-standing",
   "metadata": {
    "scrolled": false
   },
   "outputs": [
    {
     "data": {
      "image/png": "[encoded data removed]",
      "text/plain": [
       "<Figure size 432x288 with 1 Axes>"
      ]
     },
     "metadata": {
      "needs_background": "light"
     },
     "output_type": "display_data"
    },
    {
     "data": {
      "image/png": "[encoded data removed]",
      "text/plain": [
       "<Figure size 432x288 with 1 Axes>"
      ]
     },
     "metadata": {
      "needs_background": "light"
     },
     "output_type": "display_data"
    },
    {
     "data": {
      "image/png": "[encoded data removed]",
      "text/plain": [
       "<Figure size 432x288 with 1 Axes>"
      ]
     },
     "metadata": {
      "needs_background": "light"
     },
     "output_type": "display_data"
    },
    {
     "data": {
      "image/png": "[encoded data removed]",
      "text/plain": [
       "<Figure size 432x288 with 1 Axes>"
      ]
     },
     "metadata": {
      "needs_background": "light"
     },
     "output_type": "display_data"
    },
    {
     "data": {
      "image/png": "[encoded data removed]",
      "text/plain": [
       "<Figure size 432x288 with 1 Axes>"
      ]
     },
     "metadata": {
      "needs_background": "light"
     },
     "output_type": "display_data"
    },
    {
     "data": {
      "image/png": "[encoded data removed]",
      "text/plain": [
       "<Figure size 432x288 with 1 Axes>"
      ]
     },
     "metadata": {
      "needs_background": "light"
     },
     "output_type": "display_data"
    },
    {
     "data": {
      "image/png": "[encoded data removed]",
      "text/plain": [
       "<Figure size 432x288 with 1 Axes>"
      ]
     },
     "metadata": {
      "needs_background": "light"
     },
     "output_type": "display_data"
    },
    {
     "data": {
      "image/png": "[encoded data removed]",
      "text/plain": [
       "<Figure size 432x288 with 1 Axes>"
      ]
     },
     "metadata": {
      "needs_background": "light"
     },
     "output_type": "display_data"
    }
   ],
   "source": [
    "feature_names = [c for c in df.columns if c.startswith('n_')]\n",
    "for f in feature_names:\n",
    "    plt.figure()\n",
    "    plt.title(f)\n",
    "    df[f].hist(bins=50)"
   ]
  },
  {
   "cell_type": "markdown",
   "id": "juvenile-strength",
   "metadata": {},
   "source": [
    "## Detect outliers with Isolation Forest"
   ]
  },
  {
   "cell_type": "markdown",
   "id": "thirty-harbor",
   "metadata": {},
   "source": [
    "Now that we have our features ready, we can use Isolation Forest to detect the outliers. We use an arbitrarily set contamination level to 1%."
   ]
  },
  {
   "cell_type": "code",
   "execution_count": 55,
   "id": "reflected-spank",
   "metadata": {},
   "outputs": [],
   "source": [
    "from sklearn.ensemble import IsolationForest"
   ]
  },
  {
   "cell_type": "code",
   "execution_count": 58,
   "id": "planned-steam",
   "metadata": {},
   "outputs": [],
   "source": [
    "X = df[feature_names]"
   ]
  },
  {
   "cell_type": "code",
   "execution_count": 132,
   "id": "historic-bradley",
   "metadata": {},
   "outputs": [],
   "source": [
    "clf = IsolationForest(n_estimators=100, contamination=0.01, max_features=1, random_state=7)"
   ]
  },
  {
   "cell_type": "code",
   "execution_count": 133,
   "id": "adjustable-noise",
   "metadata": {},
   "outputs": [
    {
     "name": "stderr",
     "output_type": "stream",
     "text": [
      "/home/dev/venv/lib/python3.8/site-packages/sklearn/base.py:441: UserWarning: X does not have valid feature names, but IsolationForest was fitted with feature names\n",
      "  warnings.warn(\n",
      "/home/dev/venv/lib/python3.8/site-packages/sklearn/base.py:441: UserWarning: X does not have valid feature names, but IsolationForest was fitted with feature names\n",
      "  warnings.warn(\n"
     ]
    }
   ],
   "source": [
    "df['anomaly_score'] = clf.fit_predict(X)"
   ]
  },
  {
   "cell_type": "code",
   "execution_count": null,
   "id": "dominant-tolerance",
   "metadata": {},
   "outputs": [],
   "source": [
    "df['decision_function']=clf.decision_function(X)"
   ]
  },
  {
   "cell_type": "markdown",
   "id": "modern-walnut",
   "metadata": {},
   "source": [
    "We ended up with 1% of outlying results, as expected."
   ]
  },
  {
   "cell_type": "code",
   "execution_count": 135,
   "id": "accessible-frame",
   "metadata": {},
   "outputs": [
    {
     "data": {
      "text/plain": [
       "anomaly_score\n",
       "-1      276\n",
       " 1    27226\n",
       "Name: review, dtype: int64"
      ]
     },
     "execution_count": 135,
     "metadata": {},
     "output_type": "execute_result"
    }
   ],
   "source": [
    "df.groupby('anomaly_score').count()['review']"
   ]
  },
  {
   "cell_type": "markdown",
   "id": "precious-average",
   "metadata": {},
   "source": [
    "Let's have a look at the most outlying examples..."
   ]
  },
  {
   "cell_type": "code",
   "execution_count": 137,
   "id": "certain-financing",
   "metadata": {},
   "outputs": [
    {
     "data": {
      "text/html": [
       "<div>\n",
       "<style scoped>\n",
       "    .dataframe tbody tr th:only-of-type {\n",
       "        vertical-align: middle;\n",
       "    }\n",
       "\n",
       "    .dataframe tbody tr th {\n",
       "        vertical-align: top;\n",
       "    }\n",
       "\n",
       "    .dataframe thead th {\n",
       "        text-align: right;\n",
       "    }\n",
       "</style>\n",
       "<table border=\"1\" class=\"dataframe\">\n",
       "  <thead>\n",
       "    <tr style=\"text-align: right;\">\n",
       "      <th></th>\n",
       "      <th>review</th>\n",
       "      <th>sentiment</th>\n",
       "      <th>n_chars</th>\n",
       "      <th>n_words</th>\n",
       "      <th>n_punct</th>\n",
       "      <th>n_digit</th>\n",
       "      <th>n_stopw</th>\n",
       "      <th>n_sents</th>\n",
       "      <th>n_unique_words</th>\n",
       "      <th>n_unique_chars</th>\n",
       "      <th>anomaly_score</th>\n",
       "      <th>decision_function</th>\n",
       "    </tr>\n",
       "  </thead>\n",
       "  <tbody>\n",
       "    <tr>\n",
       "      <th>27223</th>\n",
       "      <td>mature intelligent and highly charged melodram...</td>\n",
       "      <td>positive</td>\n",
       "      <td>5.682927</td>\n",
       "      <td>40</td>\n",
       "      <td>0.024390</td>\n",
       "      <td>0.097561</td>\n",
       "      <td>0.439024</td>\n",
       "      <td>2</td>\n",
       "      <td>31</td>\n",
       "      <td>30</td>\n",
       "      <td>-1</td>\n",
       "      <td>-0.104372</td>\n",
       "    </tr>\n",
       "    <tr>\n",
       "      <th>15785</th>\n",
       "      <td>As so many others have written, this is a wond...</td>\n",
       "      <td>positive</td>\n",
       "      <td>3.886076</td>\n",
       "      <td>236</td>\n",
       "      <td>0.324895</td>\n",
       "      <td>0.780591</td>\n",
       "      <td>0.122363</td>\n",
       "      <td>7</td>\n",
       "      <td>74</td>\n",
       "      <td>57</td>\n",
       "      <td>-1</td>\n",
       "      <td>-0.102542</td>\n",
       "    </tr>\n",
       "    <tr>\n",
       "      <th>11021</th>\n",
       "      <td>I will divide my review into following 5 categ...</td>\n",
       "      <td>positive</td>\n",
       "      <td>3.567493</td>\n",
       "      <td>362</td>\n",
       "      <td>0.440771</td>\n",
       "      <td>0.055096</td>\n",
       "      <td>0.247934</td>\n",
       "      <td>16</td>\n",
       "      <td>103</td>\n",
       "      <td>62</td>\n",
       "      <td>-1</td>\n",
       "      <td>-0.098562</td>\n",
       "    </tr>\n",
       "  </tbody>\n",
       "</table>\n",
       "</div>"
      ],
      "text/plain": [
       "                                                  review sentiment   n_chars  \\\n",
       "27223  mature intelligent and highly charged melodram...  positive  5.682927   \n",
       "15785  As so many others have written, this is a wond...  positive  3.886076   \n",
       "11021  I will divide my review into following 5 categ...  positive  3.567493   \n",
       "\n",
       "       n_words   n_punct   n_digit   n_stopw  n_sents  n_unique_words  \\\n",
       "27223       40  0.024390  0.097561  0.439024        2              31   \n",
       "15785      236  0.324895  0.780591  0.122363        7              74   \n",
       "11021      362  0.440771  0.055096  0.247934       16             103   \n",
       "\n",
       "       n_unique_chars  anomaly_score  decision_function  \n",
       "27223              30             -1          -0.104372  \n",
       "15785              57             -1          -0.102542  \n",
       "11021              62             -1          -0.098562  "
      ]
     },
     "execution_count": 137,
     "metadata": {},
     "output_type": "execute_result"
    }
   ],
   "source": [
    "df[df['anomaly_score']==-1].sort_values('decision_function').head(3)"
   ]
  },
  {
   "cell_type": "markdown",
   "id": "invisible-uniform",
   "metadata": {},
   "source": [
    "Double check at the decision function and its range."
   ]
  },
  {
   "cell_type": "code",
   "execution_count": 138,
   "id": "czech-newcastle",
   "metadata": {},
   "outputs": [
    {
     "data": {
      "text/plain": [
       "<AxesSubplot:>"
      ]
     },
     "execution_count": 138,
     "metadata": {},
     "output_type": "execute_result"
    },
    {
     "data": {
      "image/png": "[encoded data removed]",
      "text/plain": [
       "<Figure size 432x288 with 1 Axes>"
      ]
     },
     "metadata": {
      "needs_background": "light"
     },
     "output_type": "display_data"
    }
   ],
   "source": [
    "df['decision_function'].hist()"
   ]
  },
  {
   "cell_type": "markdown",
   "id": "different-equality",
   "metadata": {},
   "source": [
    "## Overall feature contributions | hack with RFC"
   ]
  },
  {
   "cell_type": "markdown",
   "id": "skilled-miami",
   "metadata": {},
   "source": [
    "To get the feature contribution, we train a balanced Random Forest Classifier using the labels created in the process above."
   ]
  },
  {
   "cell_type": "code",
   "execution_count": 139,
   "id": "amber-rubber",
   "metadata": {},
   "outputs": [],
   "source": [
    "from sklearn.ensemble import RandomForestClassifier as RFC"
   ]
  },
  {
   "cell_type": "code",
   "execution_count": 142,
   "id": "neutral-cancellation",
   "metadata": {},
   "outputs": [],
   "source": [
    "clf2 = RFC(n_estimators=100, class_weight='balanced')"
   ]
  },
  {
   "cell_type": "code",
   "execution_count": 143,
   "id": "falling-commons",
   "metadata": {},
   "outputs": [
    {
     "data": {
      "text/plain": [
       "RandomForestClassifier(class_weight='balanced')"
      ]
     },
     "execution_count": 143,
     "metadata": {},
     "output_type": "execute_result"
    }
   ],
   "source": [
    "clf2.fit(X, df['anomaly_score'])"
   ]
  },
  {
   "cell_type": "markdown",
   "id": "raised-colombia",
   "metadata": {},
   "source": [
    "The feature importance is listed below. As we can see, the number of words and unique characters are the features the most often identifying an outlier."
   ]
  },
  {
   "cell_type": "code",
   "execution_count": 146,
   "id": "inappropriate-classification",
   "metadata": {},
   "outputs": [
    {
     "data": {
      "text/plain": [
       "<BarContainer object of 8 artists>"
      ]
     },
     "execution_count": 146,
     "metadata": {},
     "output_type": "execute_result"
    },
    {
     "data": {
      "image/png": "[encoded data removed]",
      "text/plain": [
       "<Figure size 432x288 with 1 Axes>"
      ]
     },
     "metadata": {
      "needs_background": "light"
     },
     "output_type": "display_data"
    }
   ],
   "source": [
    "idx = \n",
    "plt.barh(feature_names, clf2.feature_importances_, )\n",
    "    "
   ]
  },
  {
   "cell_type": "markdown",
   "id": "external-elimination",
   "metadata": {},
   "source": [
    "## Feature importance of specific examples (approximation)"
   ]
  },
  {
   "cell_type": "markdown",
   "id": "informational-ireland",
   "metadata": {},
   "source": [
    "Now, just for fun, we can have a look at some specific examples of outliers and check their features."
   ]
  },
  {
   "cell_type": "code",
   "execution_count": 165,
   "id": "contrary-original",
   "metadata": {},
   "outputs": [],
   "source": [
    "from scipy.stats import percentileofscore\n",
    "import numpy as np"
   ]
  },
  {
   "cell_type": "code",
   "execution_count": 148,
   "id": "lightweight-valley",
   "metadata": {},
   "outputs": [
    {
     "data": {
      "text/html": [
       "<div>\n",
       "<style scoped>\n",
       "    .dataframe tbody tr th:only-of-type {\n",
       "        vertical-align: middle;\n",
       "    }\n",
       "\n",
       "    .dataframe tbody tr th {\n",
       "        vertical-align: top;\n",
       "    }\n",
       "\n",
       "    .dataframe thead th {\n",
       "        text-align: right;\n",
       "    }\n",
       "</style>\n",
       "<table border=\"1\" class=\"dataframe\">\n",
       "  <thead>\n",
       "    <tr style=\"text-align: right;\">\n",
       "      <th></th>\n",
       "      <th>review</th>\n",
       "      <th>sentiment</th>\n",
       "      <th>n_chars</th>\n",
       "      <th>n_words</th>\n",
       "      <th>n_punct</th>\n",
       "      <th>n_digit</th>\n",
       "      <th>n_stopw</th>\n",
       "      <th>n_sents</th>\n",
       "      <th>n_unique_words</th>\n",
       "      <th>n_unique_chars</th>\n",
       "      <th>anomaly_score</th>\n",
       "      <th>decision_function</th>\n",
       "    </tr>\n",
       "  </thead>\n",
       "  <tbody>\n",
       "    <tr>\n",
       "      <th>2764</th>\n",
       "      <td>WWE was in need of a saviour as Wrestlemania 1...</td>\n",
       "      <td>positive</td>\n",
       "      <td>5.304348</td>\n",
       "      <td>988</td>\n",
       "      <td>0.062690</td>\n",
       "      <td>0.008089</td>\n",
       "      <td>0.448938</td>\n",
       "      <td>38</td>\n",
       "      <td>354</td>\n",
       "      <td>62</td>\n",
       "      <td>-1</td>\n",
       "      <td>-0.009914</td>\n",
       "    </tr>\n",
       "    <tr>\n",
       "      <th>26938</th>\n",
       "      <td>this took me back to my childhood in the 1950 ...</td>\n",
       "      <td>positive</td>\n",
       "      <td>4.508475</td>\n",
       "      <td>58</td>\n",
       "      <td>0.050847</td>\n",
       "      <td>0.067797</td>\n",
       "      <td>0.457627</td>\n",
       "      <td>2</td>\n",
       "      <td>40</td>\n",
       "      <td>51</td>\n",
       "      <td>-1</td>\n",
       "      <td>-0.009906</td>\n",
       "    </tr>\n",
       "    <tr>\n",
       "      <th>3195</th>\n",
       "      <td>Set in a California detention camp in an indis...</td>\n",
       "      <td>positive</td>\n",
       "      <td>5.570861</td>\n",
       "      <td>754</td>\n",
       "      <td>0.052980</td>\n",
       "      <td>0.002649</td>\n",
       "      <td>0.512583</td>\n",
       "      <td>20</td>\n",
       "      <td>311</td>\n",
       "      <td>50</td>\n",
       "      <td>-1</td>\n",
       "      <td>-0.001152</td>\n",
       "    </tr>\n",
       "    <tr>\n",
       "      <th>2495</th>\n",
       "      <td>More suspenseful, more subtle, much, much more...</td>\n",
       "      <td>negative</td>\n",
       "      <td>4.692308</td>\n",
       "      <td>12</td>\n",
       "      <td>0.307692</td>\n",
       "      <td>0.000000</td>\n",
       "      <td>0.384615</td>\n",
       "      <td>1</td>\n",
       "      <td>5</td>\n",
       "      <td>21</td>\n",
       "      <td>-1</td>\n",
       "      <td>-0.003740</td>\n",
       "    </tr>\n",
       "    <tr>\n",
       "      <th>2420</th>\n",
       "      <td>...an incomprehensible script (when it shouldn...</td>\n",
       "      <td>negative</td>\n",
       "      <td>5.428571</td>\n",
       "      <td>34</td>\n",
       "      <td>0.200000</td>\n",
       "      <td>0.000000</td>\n",
       "      <td>0.342857</td>\n",
       "      <td>1</td>\n",
       "      <td>20</td>\n",
       "      <td>33</td>\n",
       "      <td>-1</td>\n",
       "      <td>-0.024647</td>\n",
       "    </tr>\n",
       "    <tr>\n",
       "      <th>2577</th>\n",
       "      <td>Tony Hawk's Pro Skater 2x, isn't much differen...</td>\n",
       "      <td>positive</td>\n",
       "      <td>4.542702</td>\n",
       "      <td>1287</td>\n",
       "      <td>0.115683</td>\n",
       "      <td>0.073758</td>\n",
       "      <td>0.450311</td>\n",
       "      <td>51</td>\n",
       "      <td>251</td>\n",
       "      <td>64</td>\n",
       "      <td>-1</td>\n",
       "      <td>-0.035534</td>\n",
       "    </tr>\n",
       "    <tr>\n",
       "      <th>2700</th>\n",
       "      <td>The 1973 musical version of LOST HORIZON is th...</td>\n",
       "      <td>positive</td>\n",
       "      <td>5.075560</td>\n",
       "      <td>1071</td>\n",
       "      <td>0.084888</td>\n",
       "      <td>0.035448</td>\n",
       "      <td>0.467351</td>\n",
       "      <td>56</td>\n",
       "      <td>366</td>\n",
       "      <td>67</td>\n",
       "      <td>-1</td>\n",
       "      <td>-0.008420</td>\n",
       "    </tr>\n",
       "    <tr>\n",
       "      <th>2479</th>\n",
       "      <td>Widow hires a psychopath as a handyman. Sloppy...</td>\n",
       "      <td>negative</td>\n",
       "      <td>4.448276</td>\n",
       "      <td>28</td>\n",
       "      <td>0.172414</td>\n",
       "      <td>0.103448</td>\n",
       "      <td>0.379310</td>\n",
       "      <td>3</td>\n",
       "      <td>20</td>\n",
       "      <td>32</td>\n",
       "      <td>-1</td>\n",
       "      <td>-0.032928</td>\n",
       "    </tr>\n",
       "    <tr>\n",
       "      <th>527</th>\n",
       "      <td>There is a reason why this made for British TV...</td>\n",
       "      <td>negative</td>\n",
       "      <td>5.682927</td>\n",
       "      <td>81</td>\n",
       "      <td>0.073171</td>\n",
       "      <td>0.048780</td>\n",
       "      <td>0.390244</td>\n",
       "      <td>2</td>\n",
       "      <td>52</td>\n",
       "      <td>45</td>\n",
       "      <td>-1</td>\n",
       "      <td>-0.004470</td>\n",
       "    </tr>\n",
       "    <tr>\n",
       "      <th>2069</th>\n",
       "      <td>A few minutes in: \"NOT credible. What idiot wr...</td>\n",
       "      <td>negative</td>\n",
       "      <td>3.984848</td>\n",
       "      <td>65</td>\n",
       "      <td>0.287879</td>\n",
       "      <td>0.000000</td>\n",
       "      <td>0.287879</td>\n",
       "      <td>8</td>\n",
       "      <td>29</td>\n",
       "      <td>48</td>\n",
       "      <td>-1</td>\n",
       "      <td>-0.009019</td>\n",
       "    </tr>\n",
       "  </tbody>\n",
       "</table>\n",
       "</div>"
      ],
      "text/plain": [
       "                                                  review sentiment   n_chars  \\\n",
       "2764   WWE was in need of a saviour as Wrestlemania 1...  positive  5.304348   \n",
       "26938  this took me back to my childhood in the 1950 ...  positive  4.508475   \n",
       "3195   Set in a California detention camp in an indis...  positive  5.570861   \n",
       "2495   More suspenseful, more subtle, much, much more...  negative  4.692308   \n",
       "2420   ...an incomprehensible script (when it shouldn...  negative  5.428571   \n",
       "2577   Tony Hawk's Pro Skater 2x, isn't much differen...  positive  4.542702   \n",
       "2700   The 1973 musical version of LOST HORIZON is th...  positive  5.075560   \n",
       "2479   Widow hires a psychopath as a handyman. Sloppy...  negative  4.448276   \n",
       "527    There is a reason why this made for British TV...  negative  5.682927   \n",
       "2069   A few minutes in: \"NOT credible. What idiot wr...  negative  3.984848   \n",
       "\n",
       "       n_words   n_punct   n_digit   n_stopw  n_sents  n_unique_words  \\\n",
       "2764       988  0.062690  0.008089  0.448938       38             354   \n",
       "26938       58  0.050847  0.067797  0.457627        2              40   \n",
       "3195       754  0.052980  0.002649  0.512583       20             311   \n",
       "2495        12  0.307692  0.000000  0.384615        1               5   \n",
       "2420        34  0.200000  0.000000  0.342857        1              20   \n",
       "2577      1287  0.115683  0.073758  0.450311       51             251   \n",
       "2700      1071  0.084888  0.035448  0.467351       56             366   \n",
       "2479        28  0.172414  0.103448  0.379310        3              20   \n",
       "527         81  0.073171  0.048780  0.390244        2              52   \n",
       "2069        65  0.287879  0.000000  0.287879        8              29   \n",
       "\n",
       "       n_unique_chars  anomaly_score  decision_function  \n",
       "2764               62             -1          -0.009914  \n",
       "26938              51             -1          -0.009906  \n",
       "3195               50             -1          -0.001152  \n",
       "2495               21             -1          -0.003740  \n",
       "2420               33             -1          -0.024647  \n",
       "2577               64             -1          -0.035534  \n",
       "2700               67             -1          -0.008420  \n",
       "2479               32             -1          -0.032928  \n",
       "527                45             -1          -0.004470  \n",
       "2069               48             -1          -0.009019  "
      ]
     },
     "execution_count": 148,
     "metadata": {},
     "output_type": "execute_result"
    }
   ],
   "source": [
    "sample = df[df['anomaly_score']==-1].sort_values('decision_function').sample(10)\n",
    "sample"
   ]
  },
  {
   "cell_type": "code",
   "execution_count": 176,
   "id": "incident-privilege",
   "metadata": {
    "scrolled": false
   },
   "outputs": [
    {
     "name": "stdout",
     "output_type": "stream",
     "text": [
      "\n",
      "\" WWE was in need of a saviour as Wrestlemania 14 rolled around. The departure of Bret Hart and subseq[...]\n",
      "n_chars           5.304348\n",
      "n_words                988\n",
      "n_punct            0.06269\n",
      "n_digit           0.008089\n",
      "n_stopw           0.448938\n",
      "n_sents                 38\n",
      "n_unique_words         354\n",
      "n_unique_chars          62\n",
      "Name: 2764, dtype: object\n",
      "  OUTLIER PRIMARY REASON:\n",
      "    >>n_words<< (988) is way greater than the rest of population (98.6 percentile)\n",
      "      AND\n",
      "    >>n_sents<< (38) is way greater than the rest of population (98.5 percentile)\n",
      "\n",
      "\" this took me back to my childhood in the 1950 's so corny but just fab no one ever could play FLASH [...]\n",
      "n_chars           4.508475\n",
      "n_words                 58\n",
      "n_punct           0.050847\n",
      "n_digit           0.067797\n",
      "n_stopw           0.457627\n",
      "n_sents                  2\n",
      "n_unique_words          40\n",
      "n_unique_chars          51\n",
      "Name: 26938, dtype: object\n",
      "  OUTLIER PRIMARY REASON:\n",
      "    >>n_sents<< (2) is way smaller than the rest of population (1.3 percentile)\n",
      "      AND\n",
      "    >>n_punct<< (0.05084745762711865) is way smaller than the rest of population (2.0 percentile)\n",
      "\n",
      "\" Set in a California detention camp in an indistinct future, an English film crew capture proceedings[...]\n",
      "n_chars           5.570861\n",
      "n_words                754\n",
      "n_punct            0.05298\n",
      "n_digit           0.002649\n",
      "n_stopw           0.512583\n",
      "n_sents                 20\n",
      "n_unique_words         311\n",
      "n_unique_chars          50\n",
      "Name: 3195, dtype: object\n",
      "  OUTLIER PRIMARY REASON:\n",
      "    >>n_chars<< (5.570860927152318) is way greater than the rest of population (99.1 percentile)\n",
      "      AND\n",
      "    >>n_punct<< (0.052980132450331126) is way smaller than the rest of population (2.4 percentile)\n",
      "\n",
      "\" More suspenseful, more subtle, much, much more disturbing....[...]\n",
      "n_chars           4.692308\n",
      "n_words                 12\n",
      "n_punct           0.307692\n",
      "n_digit                0.0\n",
      "n_stopw           0.384615\n",
      "n_sents                  1\n",
      "n_unique_words           5\n",
      "n_unique_chars          21\n",
      "Name: 2495, dtype: object\n",
      "  OUTLIER PRIMARY REASON:\n",
      "    >>n_unique_words<< (5) is way smaller than the rest of population (0.0 percentile)\n",
      "      AND\n",
      "    >>n_words<< (12) is way smaller than the rest of population (0.0 percentile)\n",
      "\n",
      "\" ...an incomprehensible script (when it shouldn't have been) dependent on a rather flaky voice-over.<[...]\n",
      "n_chars           5.428571\n",
      "n_words                 34\n",
      "n_punct                0.2\n",
      "n_digit                0.0\n",
      "n_stopw           0.342857\n",
      "n_sents                  1\n",
      "n_unique_words          20\n",
      "n_unique_chars          33\n",
      "Name: 2420, dtype: object\n",
      "  OUTLIER PRIMARY REASON:\n",
      "    >>n_unique_words<< (20) is way smaller than the rest of population (0.2 percentile)\n",
      "      AND\n",
      "    >>n_sents<< (1) is way smaller than the rest of population (0.2 percentile)\n",
      "\n",
      "\" Tony Hawk's Pro Skater 2x, isn't much different at all from the previous games (excluding Tony Hawk [...]\n",
      "n_chars           4.542702\n",
      "n_words               1287\n",
      "n_punct           0.115683\n",
      "n_digit           0.073758\n",
      "n_stopw           0.450311\n",
      "n_sents                 51\n",
      "n_unique_words         251\n",
      "n_unique_chars          64\n",
      "Name: 2577, dtype: object\n",
      "  OUTLIER PRIMARY REASON:\n",
      "    >>n_words<< (1287) is way greater than the rest of population (99.9 percentile)\n",
      "      AND\n",
      "    >>n_sents<< (51) is way greater than the rest of population (99.7 percentile)\n",
      "\n",
      "\" The 1973 musical version of LOST HORIZON is the most wonderful endearing and campy musical films of [...]\n",
      "n_chars            5.07556\n",
      "n_words               1071\n",
      "n_punct           0.084888\n",
      "n_digit           0.035448\n",
      "n_stopw           0.467351\n",
      "n_sents                 56\n",
      "n_unique_words         366\n",
      "n_unique_chars          67\n",
      "Name: 2700, dtype: object\n",
      "  OUTLIER PRIMARY REASON:\n",
      "    >>n_sents<< (56) is way greater than the rest of population (99.8 percentile)\n",
      "      AND\n",
      "    >>n_words<< (1071) is way greater than the rest of population (99.1 percentile)\n",
      "\n",
      "\" Widow hires a psychopath as a handyman. Sloppy film noir thriller which doesn't make much of its ten[...]\n",
      "n_chars           4.448276\n",
      "n_words                 28\n",
      "n_punct           0.172414\n",
      "n_digit           0.103448\n",
      "n_stopw            0.37931\n",
      "n_sents                  3\n",
      "n_unique_words          20\n",
      "n_unique_chars          32\n",
      "Name: 2479, dtype: object\n",
      "  OUTLIER PRIMARY REASON:\n",
      "    >>n_words<< (28) is way smaller than the rest of population (0.2 percentile)\n",
      "      AND\n",
      "    >>n_unique_words<< (20) is way smaller than the rest of population (0.2 percentile)\n",
      "\n",
      "\" There is a reason why this made for British TV movie only appeared at the 1977 Toronto Film Festival[...]\n",
      "n_chars           5.682927\n",
      "n_words                 81\n",
      "n_punct           0.073171\n",
      "n_digit            0.04878\n",
      "n_stopw           0.390244\n",
      "n_sents                  2\n",
      "n_unique_words          52\n",
      "n_unique_chars          45\n",
      "Name: 527, dtype: object\n",
      "  OUTLIER PRIMARY REASON:\n",
      "    >>n_chars<< (5.682926829268292) is way greater than the rest of population (99.6 percentile)\n",
      "      AND\n",
      "    >>n_sents<< (2) is way smaller than the rest of population (1.3 percentile)\n",
      "\n",
      "\" A few minutes in: \"NOT credible. What idiot wrote this?\" <br /><br />But, \"What's going on...who's t[...]\n",
      "n_chars           3.984848\n",
      "n_words                 65\n",
      "n_punct           0.287879\n",
      "n_digit                0.0\n",
      "n_stopw           0.287879\n",
      "n_sents                  8\n",
      "n_unique_words          29\n",
      "n_unique_chars          48\n",
      "Name: 2069, dtype: object\n",
      "  OUTLIER PRIMARY REASON:\n",
      "    >>n_punct<< (0.2878787878787879) is way greater than the rest of population (99.9 percentile)\n",
      "      AND\n",
      "    >>n_stopw<< (0.2878787878787879) is way smaller than the rest of population (0.4 percentile)\n"
     ]
    }
   ],
   "source": [
    "for i,row in sample.iterrows():\n",
    "    print('\\n\"',row['review'][:100]+'[...]')\n",
    "    vals = row[feature_names]\n",
    "    print(vals)\n",
    "    print(\"  OUTLIER PRIMARY REASON:\")\n",
    "    P = [percentileofscore(df[c],v) for c,v in zip(feature_names,vals)]\n",
    "    F = [(c,p,max(p,100-p),'greater' if p>90 else 'smaller') for p,c in zip(P,feature_names) if max(p,100-p)>90]\n",
    "    ndx = np.argsort([f[2] for f in F],)\n",
    "#     for f in F:\n",
    "#         print(f)\n",
    "    print(f\"    >>{F[ndx[-1]][0]}<< ({vals[F[ndx[-1]][0]]}) is way {F[ndx[-1]][3]} than the rest of population ({round(F[ndx[-1]][1],1)} percentile)\")\n",
    "    print(f\"      AND\")\n",
    "    print(f\"    >>{F[ndx[-2]][0]}<< ({vals[F[ndx[-2]][0]]}) is way {F[ndx[-2]][3]} than the rest of population ({round(F[ndx[-2]][1],1)} percentile)\")\n",
    "    "
   ]
  },
  {
   "cell_type": "markdown",
   "id": "aerial-sound",
   "metadata": {},
   "source": [
    "Looks reasonable!"
   ]
  }
 ],
 "metadata": {
  "kernelspec": {
   "display_name": "sandbox",
   "language": "python",
   "name": "sandbox"
  },
  "language_info": {
   "codemirror_mode": {
    "name": "ipython",
    "version": 3
   },
   "file_extension": ".py",
   "mimetype": "text/x-python",
   "name": "python",
   "nbconvert_exporter": "python",
   "pygments_lexer": "ipython3",
   "version": "3.8.5"
  }
 },
 "nbformat": 4,
 "nbformat_minor": 5
}
